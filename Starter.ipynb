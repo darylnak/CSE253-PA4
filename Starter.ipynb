{
 "cells": [
  {
   "cell_type": "code",
   "execution_count": null,
   "metadata": {},
   "outputs": [],
   "source": [
    "from data_loader import *\n",
    "from evaluate_captions import *\n",
    "import csv\n",
    "from build_vocab import *"
   ]
  },
  {
   "cell_type": "code",
   "execution_count": null,
   "metadata": {},
   "outputs": [],
   "source": [
    "train_json = './data/annotations/captions_train2014.json'\n",
    "test_json = './data/annotations/captions_val2014.json'\n",
    "train_root = './data/images/train/'\n",
    "test_root = './data/images/test/'\n",
    "vocab = build_vocab(train_json)\n",
    "with open('TrainImageIds.csv', 'r') as f:\n",
    "    reader = csv.reader(f)\n",
    "    trainIds = list(reader)\n",
    "trainIds = [int(i) for i in trainIds[0]]\n",
    "#train_dataset = CocoDataset(train_root, train_json, trainIds, vocab)\n",
    "\n",
    "valIds = trainIds[-len(trainIds)//5:]\n",
    "trainIds = trainIds[:-len(trainIds)//5]\n",
    "\n",
    "with open('TestImageIds.csv', 'r') as f:\n",
    "    reader = csv.reader(f)\n",
    "    testIds = list(reader)\n",
    "testIds = [int(i) for i in testIds[0]]\n",
    "#test_dataset = CocoDataset(test_root, test_json, testIds, vocab)"
   ]
  },
  {
   "cell_type": "code",
   "execution_count": null,
   "metadata": {},
   "outputs": [],
   "source": [
    "train_loader = get_loader(train_root, train_json, trainIds, vocab, \n",
    "                          transform=None, \n",
    "                          batch_size=2, \n",
    "                          shuffle=True, \n",
    "                          num_workers=4)\n",
    "val_loader = get_loader(train_root, train_json, valIds, vocab, \n",
    "                          transform=None, \n",
    "                          batch_size=2, \n",
    "                          shuffle=True, \n",
    "                          num_workers=4)\n",
    "test_loader = get_loader(test_root, test_json, testIds, vocab, \n",
    "                          transform=None, \n",
    "                          batch_size=2, \n",
    "                          shuffle=True, \n",
    "                          num_workers=4)"
   ]
  }
 ],
 "metadata": {
  "kernelspec": {
   "display_name": "Python 3",
   "language": "python",
   "name": "python3"
  },
  "language_info": {
   "codemirror_mode": {
    "name": "ipython",
    "version": 3
   },
   "file_extension": ".py",
   "mimetype": "text/x-python",
   "name": "python",
   "nbconvert_exporter": "python",
   "pygments_lexer": "ipython3",
   "version": "3.7.3"
  }
 },
 "nbformat": 4,
 "nbformat_minor": 2
}
