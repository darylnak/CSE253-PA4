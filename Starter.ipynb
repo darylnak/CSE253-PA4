{
 "cells": [
  {
   "cell_type": "code",
   "execution_count": null,
   "metadata": {},
   "outputs": [],
   "source": [
    "from data_loader import *\n",
    "from evaluate_captions import *\n",
    "import csv\n",
    "from build_vocab import *\n",
    "from torchvision import transforms\n",
    "import torch.nn as nn\n",
    "import torch.nn.functional as F\n",
    "import torch.optim as optim\n",
    "from torch.autograd import Variable\n",
    "import time"
   ]
  },
  {
   "cell_type": "code",
   "execution_count": null,
   "metadata": {},
   "outputs": [],
   "source": [
    "train_json = './data/annotations/captions_train2014.json'\n",
    "test_json = './data/annotations/captions_val2014.json'\n",
    "train_root = './data/images/train/'\n",
    "test_root = './data/images/test/'\n",
    "vocab = build_vocab(train_json)\n",
    "with open('TrainImageIds.csv', 'r') as f:\n",
    "    reader = csv.reader(f)\n",
    "    trainIds = list(reader)\n",
    "trainIds = [int(i) for i in trainIds[0]]\n",
    "#train_dataset = CocoDataset(train_root, train_json, trainIds, vocab)\n",
    "\n",
    "valIds = trainIds[-len(trainIds)//5:]\n",
    "trainIds = trainIds[:-len(trainIds)//5]\n",
    "\n",
    "with open('TestImageIds.csv', 'r') as f:\n",
    "    reader = csv.reader(f)\n",
    "    testIds = list(reader)\n",
    "testIds = [int(i) for i in testIds[0]]\n",
    "#test_dataset = CocoDataset(test_root, test_json, testIds, vocab)"
   ]
  },
  {
   "cell_type": "code",
   "execution_count": null,
   "metadata": {},
   "outputs": [],
   "source": [
    "normalize = transforms.Normalize(mean=[0.485, 0.456, 0.406],\n",
    "                                     std=[0.229, 0.224, 0.225])\n",
    "\n",
    "tsfm = transforms.Compose([\n",
    "        transforms.Resize(size=(300,300)),\n",
    "        transforms.ToTensor(),\n",
    "        normalize,\n",
    "    ])\n",
    "train_loader = get_loader(train_root, train_json, trainIds, vocab, \n",
    "                          transform=tsfm, \n",
    "                          batch_size=10, \n",
    "                          shuffle=True, \n",
    "                          num_workers=4)\n",
    "val_loader = get_loader(train_root, train_json, valIds, vocab, \n",
    "                          transform=tsfm, \n",
    "                          batch_size=10, \n",
    "                          shuffle=True, \n",
    "                          num_workers=4)\n",
    "test_loader = get_loader(test_root, test_json, testIds, vocab, \n",
    "                          transform=tsfm, \n",
    "                          batch_size=10, \n",
    "                          shuffle=True, \n",
    "                          num_workers=4)"
   ]
  },
  {
   "cell_type": "code",
   "execution_count": null,
   "metadata": {},
   "outputs": [],
   "source": [
    "embed_dim = 100\n",
    "vocab_size= vocab.idx\n",
    "hiddem_dim = 100\n",
    "baseline = model.Img_Caption(encoder=model.res50_encoder(embed_dim), rnn=nn.RNN, \n",
    "                             vocab_size=vocab_size, \n",
    "                             embed_dim=embed_dim,\n",
    "                             hidden_dim=hiddem_dim)\n",
    "\n",
    "optimizer = optim.Adam(baseline.parameters(), lr=1e-4,weight_decay=1e-5)\n",
    "criterion = nn.CrossEntropyLoss()"
   ]
  },
  {
   "cell_type": "code",
   "execution_count": null,
   "metadata": {},
   "outputs": [],
   "source": [
    "\n",
    "use_gpu = torch.cuda.is_available()\n",
    "if use_gpu:\n",
    "    baseline = baseline.cuda()\n",
    "\n",
    "\n",
    "def train(mod, epochs):\n",
    "    \n",
    "    best_loss = float('inf')\n",
    "    for epoch in range(epochs):\n",
    "        ts = time.time()\n",
    "        for i, (imgs, caps, lengths) in enumerate(train_loader):\n",
    "            optimizer.zero_grad()\n",
    "\n",
    "            if use_gpu:\n",
    "                imgs = imgs.cuda()# Move your inputs onto the gpu\n",
    "                caps = caps.cuda()# Move your labels onto the gpu\n",
    "                #lengths = lengths.cuda()\n",
    "            \n",
    "            outputs = mod(imgs, caps, lengths)\n",
    "            targets = nn.utils.rnn.pack_padded_sequence(caps, lengths, batch_first=True)[0]\n",
    "            loss = criterion(outputs, targets)\n",
    "            loss.backward()\n",
    "            optimizer.step()\n",
    "\n",
    "            if i % 100 == 0:\n",
    "                print(\"epoch{}, iter{}, loss: {}\".format(epoch, iter, loss.item()))\n",
    "        \n",
    "        print(\"Finish epoch {}, time elapsed {}\".format(epoch, time.time() - ts))\n",
    "        # torch.save(fcn_model, 'best_model')\n",
    "\n",
    "        epoch_loss = val(epoch)\n",
    "        if epoch_loss < best_loss:\n",
    "            best_loss = epoch_loss\n",
    "            torch.save(mod, 'best_model')\n",
    "        mod.train()"
   ]
  },
  {
   "cell_type": "code",
   "execution_count": null,
   "metadata": {},
   "outputs": [],
   "source": [
    "epochs  = 10\n",
    "train(baseline, epochs)"
   ]
  },
  {
   "cell_type": "code",
   "execution_count": null,
   "metadata": {},
   "outputs": [],
   "source": []
  }
 ],
 "metadata": {
  "kernelspec": {
   "display_name": "Python 3",
   "language": "python",
   "name": "python3"
  },
  "language_info": {
   "codemirror_mode": {
    "name": "ipython",
    "version": 3
   },
   "file_extension": ".py",
   "mimetype": "text/x-python",
   "name": "python",
   "nbconvert_exporter": "python",
   "pygments_lexer": "ipython3",
   "version": "3.7.3"
  }
 },
 "nbformat": 4,
 "nbformat_minor": 2
}
